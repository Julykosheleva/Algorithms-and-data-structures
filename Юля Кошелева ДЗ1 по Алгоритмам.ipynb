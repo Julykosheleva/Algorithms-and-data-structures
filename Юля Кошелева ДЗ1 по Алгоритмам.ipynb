{
 "cells": [
  {
   "cell_type": "markdown",
   "metadata": {
    "colab_type": "text",
    "id": "xXHz3Yr6mLk0"
   },
   "source": [
    "## ***ДЗ №1 по алгоритмам Кошелевой Юлии, 188 группа***"
   ]
  },
  {
   "cell_type": "code",
   "execution_count": 1,
   "metadata": {
    "colab": {
     "base_uri": "https://localhost:8080/",
     "height": 598
    },
    "colab_type": "code",
    "id": "tBAAQCHroFy1",
    "outputId": "4732cbe4-f15b-4a54-c78a-7278537095b1"
   },
   "outputs": [
    {
     "name": "stdout",
     "output_type": "stream",
     "text": [
      "Collecting python-sat\n",
      "\u001b[?25l  Downloading https://files.pythonhosted.org/packages/a8/29/1671f288f7467e4939d9b81f8d3e392c9b4bf9ac1d33c0dc51371857c897/python-sat-0.1.4.dev17.tar.gz (246kB)\n",
      "\u001b[K     |████████████████████████████████| 256kB 5.2MB/s \n",
      "\u001b[?25hCollecting py-aiger>=3.3.0 (from python-sat)\n",
      "  Downloading https://files.pythonhosted.org/packages/97/09/2750d13f181ff9c820e804fc5f28d9e74331a1cd2bfca320b8b8b39093b7/py_aiger-3.3.3-py3-none-any.whl\n",
      "Collecting pypblib>=0.0.3 (from python-sat)\n",
      "\u001b[?25l  Downloading https://files.pythonhosted.org/packages/fb/f6/967cc8b9ea80c2a8e00913225de46d435ef441243ad1dd0a57935cc1d863/pypblib-0.0.4.tar.gz (74kB)\n",
      "\u001b[K     |████████████████████████████████| 81kB 32.6MB/s \n",
      "\u001b[?25hRequirement already satisfied: six in /usr/local/lib/python3.6/dist-packages (from python-sat) (1.12.0)\n",
      "Requirement already satisfied: attrs<20.0,>=19.1 in /usr/local/lib/python3.6/dist-packages (from py-aiger>=3.3.0->python-sat) (19.1.0)\n",
      "Collecting bidict<0.19.0,>=0.18.0 (from py-aiger>=3.3.0->python-sat)\n",
      "\u001b[?25l  Downloading https://files.pythonhosted.org/packages/52/87/f492834ef8387801f9365e493fbd78cfba438e272225e8b73a1ca974d2e5/bidict-0.18.2-py2.py3-none-any.whl (40kB)\n",
      "\u001b[K     |████████████████████████████████| 40kB 21.4MB/s \n",
      "\u001b[?25hCollecting parsimonious<0.9.0,>=0.8.1 (from py-aiger>=3.3.0->python-sat)\n",
      "\u001b[?25l  Downloading https://files.pythonhosted.org/packages/02/fc/067a3f89869a41009e1a7cdfb14725f8ddd246f30f63c645e8ef8a1c56f4/parsimonious-0.8.1.tar.gz (45kB)\n",
      "\u001b[K     |████████████████████████████████| 51kB 20.0MB/s \n",
      "\u001b[?25hCollecting toposort<2.0,>=1.5 (from py-aiger>=3.3.0->python-sat)\n",
      "  Downloading https://files.pythonhosted.org/packages/e9/8a/321cd8ea5f4a22a06e3ba30ef31ec33bea11a3443eeb1d89807640ee6ed4/toposort-1.5-py2.py3-none-any.whl\n",
      "Collecting funcy<2.0,>=1.12 (from py-aiger>=3.3.0->python-sat)\n",
      "  Downloading https://files.pythonhosted.org/packages/eb/3a/fc8323f913e8a9c6f33f7203547f8a2171223da5ed965f2541dafb10aa09/funcy-1.13-py2.py3-none-any.whl\n",
      "Building wheels for collected packages: python-sat, pypblib, parsimonious\n",
      "  Building wheel for python-sat (setup.py) ... \u001b[?25l\u001b[?25hdone\n",
      "  Created wheel for python-sat: filename=python_sat-0.1.4.dev17-cp36-cp36m-linux_x86_64.whl size=1301460 sha256=b26ef39432a12cedb5785a57e6b6bb19c1c7d18ae0aa8ec96321a9641f6cefd4\n",
      "  Stored in directory: /root/.cache/pip/wheels/f9/0a/cd/ce339b20c3118babb33b8cb1e56d387eebe6da529da266fb77\n",
      "  Building wheel for pypblib (setup.py) ... \u001b[?25l\u001b[?25hdone\n",
      "  Created wheel for pypblib: filename=pypblib-0.0.4-cp36-cp36m-linux_x86_64.whl size=2592165 sha256=35bc9e1f969b34c3762ad616aad451791b8cecd8a18d5a2da7fc9ad52706fc1b\n",
      "  Stored in directory: /root/.cache/pip/wheels/e2/92/98/d86282d693afed7b944be1ec76ff605de9ff93d1a51634e624\n",
      "  Building wheel for parsimonious (setup.py) ... \u001b[?25l\u001b[?25hdone\n",
      "  Created wheel for parsimonious: filename=parsimonious-0.8.1-cp36-none-any.whl size=42709 sha256=71a22d7f195b7b009aab4d8f5eed4bbb276c2c304a70174b28c570d36899a318\n",
      "  Stored in directory: /root/.cache/pip/wheels/b7/8d/e7/a0e74217da5caeb3c1c7689639b6d28ddbf9985b840bc96a9a\n",
      "Successfully built python-sat pypblib parsimonious\n",
      "Installing collected packages: bidict, parsimonious, toposort, funcy, py-aiger, pypblib, python-sat\n",
      "Successfully installed bidict-0.18.2 funcy-1.13 parsimonious-0.8.1 py-aiger-3.3.3 pypblib-0.0.4 python-sat-0.1.4.dev17 toposort-1.5\n"
     ]
    }
   ],
   "source": [
    "!pip install python-sat\n"
   ]
  },
  {
   "cell_type": "markdown",
   "metadata": {
    "colab_type": "text",
    "id": "FiE_ElEvWSzz"
   },
   "source": [
    "Тут нужно просто выбрать все файлики из архива из задания:"
   ]
  },
  {
   "cell_type": "code",
   "execution_count": 4,
   "metadata": {
    "colab": {
     "base_uri": "https://localhost:8080/",
     "height": 1000,
     "resources": {
      "http://localhost:8080/nbextensions/google.colab/files.js": {
       "data": "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",
       "headers": [
        [
         "content-type",
         "application/javascript"
        ]
       ],
       "ok": true,
       "status": 200,
       "status_text": ""
      }
     }
    },
    "colab_type": "code",
    "id": "BaSNLr7WV6kt",
    "outputId": "88e97076-7041-440a-81c1-e6d1ef93af24"
   },
   "outputs": [
    {
     "ename": "ModuleNotFoundError",
     "evalue": "No module named 'google'",
     "output_type": "error",
     "traceback": [
      "\u001b[1;31m---------------------------------------------------------------------------\u001b[0m",
      "\u001b[1;31mModuleNotFoundError\u001b[0m                       Traceback (most recent call last)",
      "\u001b[1;32m<ipython-input-4-726a5270d83b>\u001b[0m in \u001b[0;36m<module>\u001b[1;34m()\u001b[0m\n\u001b[1;32m----> 1\u001b[1;33m \u001b[1;32mfrom\u001b[0m \u001b[0mgoogle\u001b[0m\u001b[1;33m.\u001b[0m\u001b[0mcolab\u001b[0m \u001b[1;32mimport\u001b[0m \u001b[0mfiles\u001b[0m\u001b[1;33m\u001b[0m\u001b[0m\n\u001b[0m\u001b[0;32m      2\u001b[0m \u001b[1;32mimport\u001b[0m \u001b[0mio\u001b[0m\u001b[1;33m\u001b[0m\u001b[0m\n\u001b[0;32m      3\u001b[0m \u001b[1;33m\u001b[0m\u001b[0m\n\u001b[0;32m      4\u001b[0m \u001b[0muploaded\u001b[0m \u001b[1;33m=\u001b[0m \u001b[0mfiles\u001b[0m\u001b[1;33m.\u001b[0m\u001b[0mupload\u001b[0m\u001b[1;33m(\u001b[0m\u001b[1;33m)\u001b[0m\u001b[1;33m\u001b[0m\u001b[0m\n",
      "\u001b[1;31mModuleNotFoundError\u001b[0m: No module named 'google'"
     ]
    }
   ],
   "source": [
    "from google.colab import files\n",
    "import io\n",
    "\n",
    "uploaded = files.upload()"
   ]
  },
  {
   "cell_type": "markdown",
   "metadata": {
    "colab_type": "text",
    "id": "_WbrSbNr6iCC"
   },
   "source": [
    "Составим формулу так, чтобы вершины, соединенные ребром обязательно имели разные цвета и каждая вершина имела только один цвет. Переменных будет (число цветов * число вешин)"
   ]
  },
  {
   "cell_type": "code",
   "execution_count": 0,
   "metadata": {
    "colab": {},
    "colab_type": "code",
    "id": "lKbfcl3psU64"
   },
   "outputs": [],
   "source": [
    "from pysat.solvers import Glucose3"
   ]
  },
  {
   "cell_type": "markdown",
   "metadata": {
    "colab_type": "text",
    "id": "_XqQ_JLm7CQh"
   },
   "source": [
    "Теперь напишем функцию, которая проверит, можно ли раскрасить граф в k цветов"
   ]
  },
  {
   "cell_type": "code",
   "execution_count": 0,
   "metadata": {
    "colab": {},
    "colab_type": "code",
    "id": "fh_1abfwvEOs"
   },
   "outputs": [],
   "source": [
    "def transform(Edges, k, n):\n",
    "  \n",
    "  def get_idx(v, color):\n",
    "    return (n * (color - 1) + v)\n",
    "  \n",
    "  sat = Glucose3()\n",
    "  \n",
    "  for i in range(n):\n",
    "    cur = []\n",
    "    for j in range(k):\n",
    "      cur.append(get_idx(i + 1, j + 1))\n",
    "    sat.add_clause(cur)\n",
    " \n",
    "  for edge in Edges:\n",
    "    for color in range(k):\n",
    "      cur = [-get_idx(edge[0], color + 1), -get_idx(edge[1], color + 1)]\n",
    "      sat.add_clause(cur)\n",
    "\n",
    "  if sat.solve():\n",
    "    return sat.get_model()\n",
    "  else:\n",
    "    return None"
   ]
  },
  {
   "cell_type": "markdown",
   "metadata": {
    "colab_type": "text",
    "id": "siHk0yQp7gSI"
   },
   "source": [
    "Функция, чтобы по индексу в формуле получить вершину и ее цвет"
   ]
  },
  {
   "cell_type": "code",
   "execution_count": 0,
   "metadata": {
    "colab": {},
    "colab_type": "code",
    "id": "xWhKqsk17ocX"
   },
   "outputs": [],
   "source": [
    "def get_color(n, index):\n",
    "  if index % n != 0:\n",
    "    v = index % n\n",
    "  else:\n",
    "    v = n\n",
    "  if index % n == 0:\n",
    "    c = (index // n)\n",
    "  else :\n",
    "    c = (index // n) + 1\n",
    "  return (v, c)"
   ]
  },
  {
   "cell_type": "markdown",
   "metadata": {
    "colab_type": "text",
    "id": "SEkPI--67LMg"
   },
   "source": [
    "А теперь для графа проверим всевозможные варианты количества цветов, в которое его можем покрасить, и найдем минимальное"
   ]
  },
  {
   "cell_type": "markdown",
   "metadata": {
    "colab_type": "text",
    "id": "YinLMgJyWJ4h"
   },
   "source": [
    "Во-первых упростим жизнь:"
   ]
  },
  {
   "cell_type": "code",
   "execution_count": 0,
   "metadata": {
    "colab": {},
    "colab_type": "code",
    "id": "ZllpXqZeCv0s"
   },
   "outputs": [],
   "source": [
    "def name(x):\n",
    "  if x < 10:\n",
    "    return \"0\" + str(x) + \".in\"\n",
    "  else:\n",
    "    return \"\" + str(x) + \".in\""
   ]
  },
  {
   "cell_type": "markdown",
   "metadata": {
    "colab_type": "text",
    "id": "rW35aPUhXCrv"
   },
   "source": [
    "Тут мы найдем хроматическое число графа, а потом и нужную раскраску. Это сделаем для всех графов из тестов и выведем ответы:"
   ]
  },
  {
   "cell_type": "code",
   "execution_count": 96,
   "metadata": {
    "colab": {
     "base_uri": "https://localhost:8080/",
     "height": 1000
    },
    "colab_type": "code",
    "id": "SsZWF87c7KDI",
    "outputId": "4c3f793b-8b3b-4557-a463-288da2ea8e4d"
   },
   "outputs": [
    {
     "name": "stdout",
     "output_type": "stream",
     "text": [
      "1\n",
      "1 1 1 1 1 1 1 1 1 1 \n",
      "2\n",
      "2 2 2 2 1 1 1 1 2 1 2 2 1 1 2 2 1 1 2 2 1 1 1 1 1 1 1 1 2 1 2 1 1 1 1 2 1 2 2 2 1 1 1 1 1 2 1 2 2 1 \n",
      "3\n",
      "3 2 1 2 3 2 3 3 2 2 2 2 3 2 1 2 2 2 2 2 2 3 3 2 2 2 2 2 2 3 2 3 2 3 2 2 2 3 2 2 3 3 3 3 1 2 2 2 3 2 2 3 2 2 3 2 2 2 2 3 2 3 1 2 1 \n",
      "4\n",
      "2 4 3 3 2 4 4 2 3 2 3 1 2 3 3 4 3 2 1 4 3 2 3 3 1 3 2 3 1 1 1 1 2 4 1 2 1 2 3 2 1 3 4 2 4 1 2 3 3 2 \n",
      "4\n",
      "3 3 2 3 4 4 4 1 3 4 3 1 2 2 2 4 1 2 4 2 1 2 3 2 1 3 \n",
      "2\n",
      "1 1 2 1 1 1 1 2 2 1 1 1 2 1 1 1 2 1 1 1 2 1 2 1 1 2 1 2 2 2 2 1 1 2 1 2 1 2 1 2 1 2 2 2 1 1 2 2 1 1 1 2 1 1 2 1 2 2 2 1 2 1 1 1 1 2 2 2 1 2 2 2 2 1 2 2 1 2 2 1 1 2 1 2 2 1 2 2 2 2 1 1 2 1 2 2 1 1 2 1 2 1 2 1 2 2 2 2 2 1 2 1 1 2 1 1 2 2 1 1 1 2 2 2 1 2 1 1 2 2 1 1 2 1 2 1 2 2 2 2 2 1 2 2 1 1 1 1 1 1 2 1 1 1 2 2 1 1 2 2 1 1 2 1 1 2 1 2 2 2 2 1 1 2 1 2 2 2 1 1 1 1 1 2 1 2 1 1 1 1 2 2 2 1 1 2 1 2 1 1 2 1 2 2 2 1 2 1 1 1 2 2 1 2 1 2 2 1 2 2 2 2 1 1 2 2 1 1 1 1 2 2 1 2 2 2 2 1 1 1 1 1 1 1 1 1 2 2 1 2 1 2 2 2 2 1 1 2 1 2 1 2 2 2 1 1 2 2 1 2 2 2 2 2 2 2 2 1 1 1 1 1 1 2 2 1 2 2 1 1 2 2 1 1 2 2 1 2 2 2 1 2 2 1 2 2 1 2 2 2 1 1 1 1 2 1 2 1 1 1 2 2 1 1 1 2 1 1 1 2 1 1 2 1 2 2 2 2 2 2 2 1 2 1 1 2 1 2 2 2 1 2 2 1 1 1 1 1 2 2 2 2 1 1 1 1 1 2 1 1 2 2 1 2 2 1 2 1 2 1 2 2 1 2 1 1 1 2 1 1 2 1 1 1 2 1 2 2 2 1 \n",
      "3\n",
      "2 1 1 2 1 2 3 1 3 3 2 2 1 2 2 3 2 3 2 2 1 1 1 3 1 3 2 3 1 1 1 3 3 3 1 3 1 1 1 2 3 1 1 2 2 2 3 3 1 2 2 1 2 3 2 3 2 3 2 1 2 1 1 2 3 1 3 2 1 2 1 3 2 3 2 3 3 3 1 2 3 1 2 2 2 1 1 1 1 3 2 1 2 2 3 1 3 2 1 1 3 2 2 3 1 1 3 1 2 3 2 3 1 2 2 2 2 2 3 1 1 1 1 2 1 1 1 1 1 3 2 1 2 3 3 3 3 3 2 3 1 3 1 3 3 2 3 3 3 2 2 3 3 3 2 2 2 2 1 1 3 2 1 2 2 2 3 3 1 2 3 2 2 2 2 3 1 2 1 3 2 1 2 2 3 3 2 3 3 3 2 3 3 2 1 3 1 1 3 3 1 2 2 1 3 3 2 3 1 1 1 2 1 3 1 1 2 3 3 1 3 1 1 3 1 3 2 2 2 3 3 3 2 1 1 3 1 3 3 3 2 3 2 1 2 1 1 3 3 2 1 3 3 1 1 3 3 1 3 2 1 2 3 1 1 2 2 2 2 2 2 1 1 3 2 1 1 3 3 3 1 2 2 2 2 1 3 1 2 1 1 1 2 1 1 3 3 3 1 2 \n",
      "3\n",
      "1 1 2 1 1 1 1 2 1 2 2 2 2 1 1 1 1 1 1 1 1 1 1 2 1 1 1 1 2 2 1 1 1 1 1 1 1 1 2 1 1 2 2 1 1 1 1 1 1 1 1 1 1 2 1 1 1 2 3 1 1 1 2 1 1 2 2 1 1 1 1 1 1 1 1 1 1 1 1 1 1 1 1 3 1 1 2 1 1 2 1 1 2 1 1 1 1 1 1 1 1 1 1 1 1 1 1 1 1 1 1 1 2 1 2 1 1 1 1 1 1 1 1 1 1 1 1 1 1 1 1 1 1 1 1 2 2 1 1 1 1 1 1 3 1 1 1 1 2 2 1 1 1 1 1 1 1 1 1 3 2 1 1 1 2 1 1 2 1 1 1 1 1 1 1 1 1 2 1 1 1 1 1 1 1 1 1 1 1 1 1 1 1 1 1 1 1 1 1 1 1 1 1 1 1 2 1 1 1 1 1 1 1 1 1 1 1 1 2 1 1 2 2 2 1 1 1 1 1 1 1 1 1 2 1 1 1 1 1 2 2 1 1 2 1 1 1 3 1 2 3 1 1 1 1 1 1 1 2 2 1 1 1 2 2 1 1 1 1 1 2 1 1 1 1 1 1 1 1 1 1 2 2 1 1 1 1 1 1 2 1 2 1 1 1 1 1 1 2 2 1 1 1 2 1 1 1 1 1 1 1 1 1 1 1 1 1 1 3 1 1 1 1 1 2 2 1 1 2 1 1 1 1 1 1 1 1 1 2 1 1 2 1 1 1 1 2 1 1 1 1 1 1 2 1 1 1 1 1 1 1 1 1 1 2 1 1 2 1 1 1 2 1 1 2 1 2 1 2 1 1 1 1 1 1 2 1 1 1 3 1 3 2 1 1 1 1 1 1 1 1 1 1 2 2 2 2 2 1 1 1 2 2 1 2 1 1 1 1 1 1 1 1 1 1 1 2 1 2 1 1 1 1 1 2 1 1 1 2 1 1 2 1 2 1 1 2 1 1 1 1 1 2 1 1 1 1 1 1 1 1 1 1 1 2 1 1 1 1 1 1 1 1 1 1 1 1 1 1 1 1 1 1 1 1 1 1 1 1 1 1 1 1 1 1 1 1 1 2 1 1 1 1 1 1 1 1 1 2 1 1 1 1 1 1 1 1 1 2 1 1 1 1 1 1 1 2 1 1 1 1 1 2 1 1 1 1 1 1 1 1 1 1 1 1 1 1 1 1 1 2 1 1 1 1 1 1 1 1 2 2 1 1 1 1 1 1 1 1 1 1 1 1 1 1 1 2 2 1 1 1 1 1 2 2 2 1 1 2 1 1 1 1 3 1 1 1 1 2 1 1 1 1 1 1 1 1 1 1 2 \n",
      "4\n",
      "4 2 1 2 1 3 2 2 2 3 2 1 2 4 3 3 3 3 3 3 2 3 2 4 2 2 3 1 4 3 2 2 3 1 3 1 2 3 1 4 2 1 1 2 3 3 3 3 1 1 3 2 1 1 4 1 2 3 2 3 1 3 3 2 2 4 3 1 4 2 2 4 4 3 1 2 4 2 4 2 2 2 2 1 3 1 1 2 3 1 2 4 1 4 1 3 3 1 3 2 3 2 1 3 2 3 4 4 2 3 3 1 2 2 4 3 3 1 1 3 1 1 4 2 3 2 2 4 3 3 3 2 2 1 1 3 3 3 4 1 3 3 1 3 1 2 3 1 3 1 4 3 3 3 2 4 2 1 3 3 4 1 1 2 3 1 1 1 2 4 4 2 1 1 1 3 3 4 4 1 3 1 3 1 3 2 3 1 2 2 3 4 1 3 2 4 3 3 4 1 4 3 1 2 1 3 3 3 3 4 2 4 2 3 1 4 3 3 2 2 4 3 4 3 4 3 2 2 1 4 3 4 3 2 3 4 3 4 1 3 3 3 2 1 2 4 2 3 4 2 1 1 3 3 1 1 1 1 1 3 2 1 4 3 3 1 3 4 2 2 2 3 3 2 1 1 1 1 4 1 1 2 1 1 2 3 1 4 3 4 3 2 2 3 2 2 1 1 1 2 4 1 3 3 1 2 1 2 3 1 1 4 1 3 3 3 2 2 1 4 3 3 2 4 2 2 3 2 1 4 2 3 2 4 2 2 4 2 2 1 1 4 1 3 3 3 2 1 3 2 3 1 3 3 1 2 1 3 2 1 4 4 2 1 2 2 2 1 2 2 2 2 2 3 1 4 3 2 1 3 2 2 1 2 2 1 2 4 1 1 1 1 4 2 1 1 2 1 1 1 \n",
      "3\n",
      "2 3 3 1 3 2 2 3 1 3 2 1 1 3 2 3 2 2 3 1 3 1 2 2 2 2 3 1 3 1 2 3 3 1 2 3 1 3 2 3 3 1 3 3 2 3 2 2 2 1 3 3 2 3 3 2 3 2 2 3 3 1 3 2 2 3 2 1 3 3 3 3 2 1 2 2 1 3 3 2 1 3 1 1 2 2 3 1 2 1 3 2 1 2 3 3 1 2 1 3 1 2 3 1 2 2 1 1 1 1 2 1 3 1 2 1 2 2 1 3 1 3 1 3 2 2 3 1 2 2 2 2 1 2 1 3 1 2 2 3 3 2 3 3 1 1 1 3 3 1 3 1 3 3 2 2 3 1 1 2 3 3 3 1 2 2 3 3 2 1 3 2 1 1 2 3 1 2 3 2 2 2 3 2 1 1 1 1 2 3 1 2 1 3 2 3 1 1 3 1 3 3 3 1 1 2 2 3 3 3 2 3 3 3 2 2 3 3 2 2 1 1 3 2 3 1 2 2 3 2 3 2 3 3 3 1 1 2 3 3 2 2 1 1 3 3 3 1 1 1 1 1 3 1 3 2 1 2 2 3 3 2 2 3 3 3 3 1 3 3 2 2 1 1 3 1 1 1 2 1 3 2 2 2 2 3 3 1 1 3 1 2 1 2 2 1 1 1 1 2 1 3 3 3 3 3 3 1 1 1 1 2 3 2 1 1 3 2 2 2 3 3 1 1 3 1 2 2 2 2 3 3 3 1 1 3 3 2 1 2 3 1 3 1 1 3 3 2 1 1 1 3 2 2 3 3 1 3 3 1 1 2 1 1 2 2 3 3 3 3 3 2 2 3 2 2 2 2 3 2 3 2 1 2 1 3 1 2 1 2 3 3 2 1 2 3 3 2 1 1 3 2 2 1 1 3 1 1 1 2 2 1 2 1 1 3 3 1 1 3 1 2 3 3 2 2 2 2 3 3 2 2 1 3 2 2 1 3 3 2 3 1 2 1 1 3 3 3 1 3 2 2 3 2 3 3 3 1 2 2 2 3 3 2 1 2 1 3 2 2 2 3 1 2 1 2 3 2 1 2 2 3 3 3 3 2 1 3 1 3 3 2 2 2 1 3 1 2 1 2 2 1 1 2 2 2 3 1 1 2 3 3 1 3 3 1 2 2 2 1 2 2 3 3 3 2 1 1 1 1 1 1 3 1 2 1 3 1 2 1 2 1 1 2 1 3 1 2 1 2 3 3 2 3 2 1 2 3 2 2 3 1 3 2 3 2 1 1 2 1 2 2 3 1 2 1 2 1 3 2 3 3 1 1 2 1 3 3 1 3 3 3 2 3 2 2 1 2 3 1 2 3 1 2 1 2 1 3 2 1 1 1 3 2 2 2 3 2 3 2 1 2 2 3 3 1 2 1 1 3 2 3 2 1 2 1 1 1 1 3 1 3 1 3 3 2 1 3 2 3 3 3 1 3 3 1 1 3 2 1 2 1 2 2 3 1 1 2 3 2 1 1 3 2 1 3 1 1 1 2 2 3 3 3 3 2 1 2 2 2 3 3 2 2 1 2 1 3 1 3 3 3 3 1 1 1 3 1 2 1 3 1 1 3 1 2 3 3 3 2 1 1 2 3 2 1 3 2 1 2 2 1 2 1 1 1 2 1 3 2 1 1 1 3 2 1 2 3 3 1 3 2 1 1 2 1 3 2 2 3 1 2 3 1 3 2 2 1 2 3 1 1 1 3 3 3 1 1 2 2 1 3 3 1 1 1 3 2 3 1 2 2 1 2 1 1 2 2 3 3 2 3 1 1 2 3 2 1 3 3 1 2 3 3 3 3 1 3 1 1 1 2 2 3 1 2 2 1 3 2 3 1 1 2 2 2 1 2 2 1 2 3 1 3 2 2 2 1 3 2 2 1 3 1 1 3 3 3 1 1 3 2 3 3 3 2 1 3 1 1 2 2 2 3 1 2 3 1 2 1 2 3 2 1 1 2 1 2 2 1 2 1 1 2 1 3 2 1 1 1 \n",
      "5\n",
      "3 3 5 3 3 5 3 5 5 3 3 3 2 3 3 3 5 1 3 3 5 2 3 1 2 4 4 5 5 5 3 2 3 3 3 3 3 5 3 3 5 3 3 2 5 3 3 3 5 3 2 1 2 1 3 3 4 5 3 3 5 3 3 5 5 5 2 3 3 5 3 3 3 5 3 2 5 2 3 3 3 5 3 5 3 3 3 4 3 2 1 5 3 3 3 3 2 1 4 3 2 5 2 3 3 5 3 3 3 3 3 4 3 3 3 2 3 3 2 3 3 3 3 3 3 3 3 3 3 5 5 5 3 2 2 2 2 3 3 3 3 3 3 3 3 5 3 3 1 5 2 5 3 2 5 3 2 3 3 3 3 3 3 5 1 3 1 5 3 2 2 3 3 3 2 2 5 3 3 3 3 3 3 3 5 3 3 4 3 3 4 2 3 3 2 3 1 5 3 3 5 5 3 3 3 5 1 2 2 3 3 3 5 3 2 5 1 3 3 4 5 3 3 3 3 1 5 3 1 5 3 3 3 3 3 5 3 1 1 4 3 3 2 3 2 3 3 5 3 2 3 1 3 3 2 3 5 3 3 3 3 3 2 5 1 1 3 5 1 5 1 3 1 3 3 5 3 3 3 3 3 3 3 3 3 3 1 3 2 5 3 2 1 3 5 1 3 3 3 3 3 3 3 5 5 1 5 3 3 5 4 2 3 3 1 5 2 3 3 3 3 3 3 2 3 1 5 3 1 5 3 3 3 3 3 3 5 3 3 2 3 3 3 3 3 1 3 2 5 3 5 1 2 5 3 3 3 3 3 3 5 3 5 5 3 3 5 3 5 3 2 3 4 3 3 2 5 3 5 5 5 5 3 5 3 2 3 3 3 3 3 3 5 3 2 3 5 1 3 3 3 1 5 5 3 1 3 1 3 5 3 1 2 1 1 3 5 3 5 5 2 4 3 3 3 2 3 3 3 3 2 2 3 3 3 5 2 3 3 2 3 3 5 3 3 1 3 3 5 3 2 3 3 3 3 5 5 1 3 2 3 3 1 3 3 3 5 3 3 3 3 3 3 5 3 2 1 5 3 3 3 5 2 3 3 5 3 5 5 5 3 2 3 3 3 3 3 3 5 3 1 5 5 5 1 5 5 5 2 3 3 3 3 3 3 3 5 3 3 3 3 3 1 3 3 5 1 3 3 3 3 3 3 3 4 1 3 5 5 3 3 5 5 3 5 3 5 3 3 2 5 3 3 3 2 1 3 3 3 3 3 3 3 5 3 5 3 3 5 5 3 3 5 3 2 3 2 1 3 3 3 5 3 3 2 3 5 2 3 1 3 3 3 3 4 2 3 5 \n",
      "4\n",
      "1 1 1 2 1 1 1 1 2 1 2 1 1 1 1 1 1 1 2 2 1 1 1 2 1 1 1 1 1 1 1 1 1 2 1 1 1 1 1 1 2 1 1 1 2 1 1 2 1 2 1 2 1 1 1 2 2 1 1 1 1 1 2 1 2 1 1 1 2 1 1 1 1 1 1 1 1 1 1 2 1 1 1 1 2 1 2 1 1 4 2 1 1 1 1 1 1 2 1 1 1 1 1 2 1 1 1 2 2 1 1 1 1 1 1 1 1 1 1 1 1 2 1 1 2 1 2 1 2 1 1 1 1 1 1 2 1 1 1 1 1 1 1 2 1 2 1 1 1 1 1 1 1 1 1 2 2 1 1 1 2 1 1 1 1 2 1 1 1 1 2 2 1 1 1 1 1 1 1 2 1 1 2 2 1 1 1 1 1 1 2 1 1 1 1 1 1 1 1 1 1 1 1 1 1 1 1 1 1 2 1 1 1 2 1 1 1 1 1 2 1 1 1 1 2 1 1 1 1 1 1 3 1 1 1 1 2 1 1 1 1 1 1 1 2 1 2 1 1 2 1 1 2 1 \n",
      "4\n",
      "1 2 2 1 1 1 2 1 3 4 1 2 1 2 1 3 2 3 3 3 3 3 2 3 1 2 2 2 1 1 1 3 3 3 2 1 3 1 2 2 3 2 2 2 1 2 2 3 3 2 2 3 2 3 1 1 3 1 3 1 3 2 1 1 2 1 3 3 2 3 1 1 1 1 3 2 3 1 1 1 2 3 1 2 2 3 3 3 3 3 1 1 1 1 1 2 1 3 1 2 2 3 2 1 3 2 2 3 3 2 3 3 3 3 1 2 2 3 1 2 1 1 2 1 1 3 3 3 2 2 1 2 1 2 1 3 2 3 1 1 2 1 3 1 3 2 1 2 2 2 3 1 3 1 1 3 1 3 3 2 1 3 3 2 1 1 1 3 2 3 1 2 3 2 2 3 1 2 3 2 2 2 1 1 2 2 3 3 3 2 2 1 3 1 3 3 3 2 1 2 2 1 3 1 2 3 3 2 1 2 2 1 1 3 1 2 2 1 3 3 3 3 3 3 2 3 3 2 2 1 1 1 1 2 1 3 1 2 1 1 3 2 3 1 2 2 2 2 2 1 2 1 1 1 3 3 2 2 3 2 3 2 2 1 3 2 3 1 3 3 2 3 1 2 2 3 3 3 1 1 1 3 2 2 3 1 1 2 2 2 3 1 2 1 1 1 1 2 3 3 3 3 2 1 \n",
      "4\n",
      "1 3 2 3 2 4 3 4 4 1 4 4 4 4 3 3 3 2 3 1 1 4 3 1 3 2 1 3 4 1 4 2 3 2 2 2 4 2 1 1 4 2 3 4 1 3 3 4 1 1 2 3 1 4 1 4 2 3 4 3 4 3 3 4 4 3 1 3 4 2 3 4 1 2 4 3 2 1 2 4 4 1 4 4 3 4 4 3 4 1 4 4 1 3 2 3 1 1 2 1 4 4 1 3 4 4 3 1 2 1 3 3 1 2 2 2 1 1 2 4 1 4 4 4 4 3 2 2 2 1 1 3 2 1 2 1 4 2 3 1 4 3 1 1 2 4 4 2 3 3 3 4 1 2 4 3 4 4 3 1 1 4 1 3 1 3 2 2 2 1 4 4 2 3 1 2 1 1 1 3 2 4 2 2 2 3 4 2 4 1 3 3 3 1 2 3 3 3 3 2 1 1 2 2 3 1 3 4 3 2 3 2 4 3 2 2 2 1 1 3 1 2 3 3 2 4 4 1 2 3 1 4 3 4 2 1 1 2 2 1 4 1 3 1 2 3 1 3 2 1 4 2 2 3 3 3 2 4 2 1 4 3 4 2 4 2 2 2 1 4 4 2 2 3 1 4 4 1 3 1 1 3 2 4 \n",
      "5\n",
      "4 2 1 5 3 4 2 1 5 3 4 2 1 5 3 4 2 1 5 5 4 2 1 5 3 4 2 1 5 3 4 2 1 5 3 4 2 1 5 3 4 2 1 5 5 4 2 1 5 3 4 2 1 5 3 4 2 1 5 5 4 2 1 5 3 4 2 1 5 3 4 2 1 5 3 4 2 1 5 3 4 2 1 3 5 4 2 1 3 3 4 2 1 3 3 4 2 1 3 3 4 2 1 3 3 4 2 1 5 5 4 2 1 5 3 4 2 1 5 3 4 2 1 5 3 4 2 1 5 3 4 2 1 5 5 4 2 1 5 3 4 2 1 5 3 4 2 1 5 5 4 2 1 5 3 4 2 1 5 3 4 2 1 5 3 4 2 1 5 3 4 2 1 5 5 4 2 1 5 3 4 2 1 5 3 4 2 1 5 3 4 2 1 5 3 4 2 1 3 5 4 2 1 3 3 4 2 1 3 3 4 2 1 3 3 4 2 1 3 3 4 2 1 5 5 4 2 1 5 3 4 2 1 5 3 4 2 1 5 5 4 2 1 5 3 4 2 1 5 3 4 2 1 5 3 4 2 1 5 3 4 2 1 5 5 4 2 1 5 3 4 2 1 5 3 4 2 1 5 3 4 2 1 5 3 4 2 1 5 5 4 2 1 5 3 4 2 1 5 3 4 2 1 5 3 4 2 1 3 3 4 2 1 3 5 4 2 1 3 3 4 2 1 3 3 4 2 1 3 5 4 2 1 5 3 4 2 1 5 3 4 2 1 5 3 4 2 1 5 3 4 2 1 5 5 4 2 1 5 3 4 2 1 5 3 4 2 1 5 3 4 2 1 5 3 4 2 1 5 5 4 2 1 5 3 4 2 1 5 3 4 2 1 5 3 4 2 1 5 3 4 2 1 5 5 4 2 1 5 3 4 2 1 5 3 4 2 1 5 5 4 2 1 3 3 4 2 1 3 3 4 2 1 3 3 4 2 1 3 3 4 2 1 3 5 4 2 1 5 3 \n",
      "5\n",
      "2 1 4 3 5 2 1 4 3 5 2 1 4 3 5 2 1 4 3 5 2 1 4 3 5 2 1 4 3 5 2 1 4 3 5 2 1 4 3 5 2 1 4 3 5 2 1 4 3 5 2 1 4 3 5 2 1 4 3 5 2 1 4 3 5 2 1 4 3 5 2 1 4 3 5 2 1 4 3 5 2 1 4 3 5 2 1 4 3 5 2 1 4 3 5 2 1 4 3 5 2 1 4 3 5 2 1 4 3 5 2 1 4 3 5 2 1 4 3 5 2 1 4 3 5 2 1 4 3 5 2 1 4 3 5 2 1 4 3 5 2 1 4 3 5 2 1 4 3 5 2 1 4 3 5 2 1 4 3 5 2 1 4 3 5 2 1 4 3 5 2 1 4 3 5 2 1 4 3 5 2 1 4 3 5 2 1 4 3 5 2 1 4 3 5 2 1 4 3 5 2 1 4 3 5 2 1 4 3 5 2 1 4 3 5 2 1 4 3 5 2 1 4 3 5 2 1 4 3 5 2 1 4 3 5 2 1 4 3 5 2 1 4 3 5 2 1 4 3 5 2 1 4 3 5 2 1 4 3 5 2 1 4 3 5 2 1 4 3 5 2 1 4 3 5 2 1 4 3 5 2 1 4 3 5 2 1 4 3 5 2 1 4 3 5 2 1 4 3 5 2 1 4 3 5 2 1 4 3 5 2 1 4 3 5 2 1 4 3 5 2 1 4 3 5 2 1 4 3 5 2 1 4 3 5 2 1 4 3 5 2 1 4 3 5 2 1 4 3 5 2 1 4 3 5 2 1 4 3 5 2 1 4 3 5 2 1 4 3 5 2 1 4 3 5 2 1 4 3 5 2 1 4 3 5 2 1 4 3 5 2 1 4 3 5 2 1 4 3 5 2 1 4 3 5 2 1 4 3 5 2 1 4 3 5 2 1 4 3 5 2 1 4 3 5 2 1 4 3 5 2 1 4 3 5 2 1 4 3 5 2 1 4 3 5 2 1 4 3 5 \n",
      "5\n",
      "4 3 2 1 5 4 3 2 1 5 4 3 2 1 5 4 3 2 1 5 4 3 2 1 5 4 3 2 1 5 4 3 2 1 5 4 3 2 1 5 4 3 2 1 5 4 3 2 1 5 4 3 2 1 5 4 3 2 1 5 4 3 2 1 5 4 3 2 1 5 4 3 2 1 5 4 3 2 1 5 4 3 2 1 5 4 3 2 1 5 4 3 2 1 5 4 3 2 1 5 4 3 2 1 5 4 3 2 1 5 4 3 2 1 5 4 3 2 1 5 4 3 2 1 5 4 3 2 1 5 4 3 2 1 5 4 3 2 1 5 4 3 2 1 5 4 3 2 1 5 4 3 2 1 5 4 3 2 1 5 4 3 2 1 5 4 3 2 1 5 4 3 2 1 5 4 3 2 1 5 4 3 2 1 5 4 3 2 1 5 4 3 2 1 5 4 3 2 1 5 4 3 2 1 5 4 3 2 1 5 4 3 2 1 5 4 3 2 1 5 4 3 2 1 5 4 3 2 1 5 4 3 2 1 5 4 3 2 1 5 4 3 2 1 5 4 3 2 1 5 4 3 2 1 5 4 3 2 1 5 4 3 2 1 5 4 3 2 1 5 4 3 2 1 5 4 3 2 1 5 4 3 2 1 5 4 3 2 1 5 4 3 2 1 5 4 3 2 1 5 4 3 2 1 5 4 3 2 1 5 4 3 2 1 5 4 3 2 1 5 4 3 2 1 5 4 3 2 1 5 4 3 2 1 5 4 3 2 1 5 4 3 2 1 5 4 3 2 1 5 4 3 2 1 5 4 3 2 1 5 4 3 2 1 5 4 3 2 1 5 4 3 2 1 5 4 3 2 1 5 4 3 2 1 5 4 3 2 1 5 4 3 2 1 5 4 3 2 1 5 4 3 2 1 5 4 3 2 1 5 4 3 2 1 5 4 3 2 1 5 4 3 2 1 5 4 3 2 1 5 4 3 2 1 5 4 3 2 1 5 4 3 2 1 5 4 3 2 1 5 \n",
      "5\n",
      "5 2 3 4 1 5 2 3 4 1 5 2 3 4 1 5 2 3 4 1 5 2 3 4 1 5 2 3 4 1 5 2 3 4 1 5 2 3 4 1 5 2 3 4 1 5 2 3 4 1 5 2 3 4 1 5 2 3 4 1 5 2 3 4 1 5 2 3 4 1 5 2 3 4 1 5 2 3 4 1 5 2 3 4 1 5 2 3 4 1 5 2 3 4 1 5 2 3 4 1 5 2 3 4 1 5 2 3 4 1 5 2 3 4 1 5 2 3 4 1 5 2 3 4 1 5 2 3 4 1 5 2 3 4 1 5 2 3 4 1 5 2 3 4 1 5 2 3 4 1 5 2 3 4 1 5 2 3 4 1 5 2 3 4 1 5 2 3 4 1 5 2 3 4 1 5 2 3 4 1 5 2 3 4 1 5 2 3 4 1 5 2 3 4 1 5 2 3 4 1 5 2 3 4 1 5 2 3 4 1 5 2 3 4 1 5 2 3 4 1 5 2 3 4 1 5 2 3 4 1 5 2 3 4 1 5 2 3 4 1 5 2 3 4 1 5 2 3 4 1 5 2 3 4 1 5 2 3 4 1 5 2 3 4 1 5 2 3 4 1 5 2 3 4 1 5 2 3 4 1 5 2 3 4 1 5 2 3 4 1 5 2 3 4 1 5 2 3 4 1 5 2 3 4 1 5 2 3 4 1 5 2 3 4 1 5 2 3 4 1 5 2 3 4 1 5 2 3 4 1 5 2 3 4 1 5 2 3 4 1 5 2 3 4 1 5 2 3 4 1 5 2 3 4 1 5 2 3 4 1 5 2 3 4 1 5 2 3 4 1 5 2 3 4 1 5 2 3 4 1 5 2 3 4 1 5 2 3 4 1 5 2 3 4 1 5 2 3 4 1 5 2 3 4 1 5 2 3 4 1 5 2 3 4 1 5 2 3 4 1 5 2 3 4 1 5 2 3 4 1 5 2 3 4 1 5 2 3 4 1 5 2 3 4 1 5 2 3 4 1 \n",
      "4\n",
      "4 1 2 2 3 3 3 2 2 3 1 \n",
      "5\n",
      "4 1 3 1 4 3 2 2 3 2 4 4 1 3 1 4 3 1 3 3 5 1 2 \n",
      "4\n",
      "3 1 2 2 3 1 2 2 1 1 2 3 1 3 2 3 1 3 2 3 1 2 3 1 3 1 3 1 3 1 3 1 2 3 2 2 2 2 2 2 2 4 1 2 1 1 1 1 1 1 3 1 1 1 3 2 \n",
      "4\n",
      "4 2 1 1 3 2 1 1 2 3 3 1 1 3 3 3 1 3 2 2 2 2 3 2 2 2 2 1 1 1 1 1 1 3 1 1 2 \n",
      "4\n",
      "4 3 1 3 4 1 2 2 3 1 3 1 2 1 2 3 1 2 3 2 3 1 1 2 4 1 3 2 2 3 1 2 1 3 3 1 2 1 2 3 2 3 1 1 2 3 2 3 1 3 2 1 2 1 3 2 3 1 3 1 2 1 3 2 2 3 1 1 2 3 2 1 3 3 1 2 1 3 2 2 1 3 1 3 2 3 1 2 \n",
      "3\n",
      "1 3 2 2 1 1 1 3 3 3 1 3 2 3 1 3 2 3 1 3 1 2 2 2 1 2 2 3 1 1 2 3 2 3 3 1 3 1 1 1 1 2 2 3 2 1 2 1 2 2 \n",
      "5\n",
      "3 2 2 5 4 5 2 5 5 1 2 4 4 4 2 4 1 2 4 1 5 5 1 3 2 4 3 2 4 4 5 4 5 3 1 3 2 5 1 2 2 1 4 4 3 4 3 3 4 4 1 1 3 5 1 3 1 3 3 3 5 3 2 4 3 1 3 1 3 2 3 3 2 3 3 1 2 5 3 1 2 1 1 1 5 1 3 3 5 5 3 5 4 1 2 1 2 4 4 2 \n",
      "5\n",
      "2 3 3 4 2 3 3 5 2 2 5 3 4 5 3 4 4 3 3 5 4 2 2 4 3 2 5 3 2 1 2 2 3 3 2 5 2 3 2 5 3 4 4 3 5 2 5 2 1 1 2 4 1 3 4 5 4 5 3 2 2 2 1 3 5 2 5 1 5 4 3 3 5 1 4 3 1 4 3 1 4 5 1 3 5 4 3 3 1 2 3 2 2 1 4 1 3 1 1 1 2 \n",
      "5\n",
      "5 5 1 2 4 1 2 1 4 4 2 5 3 2 1 5 4 4 1 4 2 2 3 5 3 4 3 4 1 5 4 5 4 3 2 1 5 3 4 3 4 4 2 4 3 2 4 5 3 1 4 4 2 5 4 2 1 5 3 1 2 1 4 2 4 4 1 2 5 1 4 1 5 4 3 1 2 2 3 4 2 2 3 5 1 3 3 4 4 3 4 5 3 5 5 3 3 3 1 2 5 3 2 5 1 2 4 4 3 1 5 1 3 1 5 1 3 3 1 3 3 2 2 1 1 2 2 2 4 3 1 2 3 3 3 1 5 1 2 2 1 2 5 1 5 3 3 4 1 2 \n",
      "4\n",
      "4 1 1 3 1 4 4 3 3 2 4 4 3 2 3 3 3 1 1 2 3 3 2 2 3 2 2 2 2 3 1 1 3 4 2 3 2 2 2 2 2 3 4 2 4 2 1 3 2 3 2 3 2 3 4 3 4 3 2 4 4 3 2 3 2 4 2 4 4 3 4 1 4 3 4 2 4 2 3 1 1 2 3 4 3 2 3 3 2 3 3 2 1 3 1 2 3 4 3 2 4 1 1 4 4 1 4 4 3 4 3 1 3 2 1 3 1 1 1 3 3 1 3 4 2 2 1 4 3 4 1 2 4 4 2 4 3 3 3 2 3 3 4 2 4 4 4 3 4 4 4 1 1 1 1 1 1 4 2 1 4 4 1 2 3 1 3 1 2 4 2 1 2 4 3 2 4 2 2 3 1 2 3 1 3 4 1 1 1 1 3 4 3 2 2 3 1 1 4 4 4 3 4 4 1 3 1 2 1 1 3 3 2 2 4 3 3 1 1 3 3 3 2 4 3 3 1 2 1 3 2 3 2 1 2 1 2 2 3 1 3 1 1 1 1 1 1 4 3 1 2 3 1 1 2 4 3 1 2 1 2 2 1 1 1 2 1 1 1 3 1 2 4 2 1 1 2 2 2 2 \n",
      "5\n",
      "1 1 5 4 3 4 1 4 1 2 4 3 5 5 4 5 3 5 1 1 5 5 5 3 3 1 4 4 5 1 3 1 1 2 2 5 4 2 1 4 2 2 5 4 1 3 4 4 4 2 5 2 5 1 4 3 5 1 2 1 2 5 1 4 5 2 3 3 1 2 4 3 3 2 1 1 5 2 4 3 1 2 2 4 4 2 5 2 1 3 4 5 2 5 5 4 3 4 1 5 1 3 4 1 5 5 4 1 2 3 5 5 4 1 4 3 2 2 3 3 3 2 2 1 1 1 2 2 4 3 3 2 1 1 3 2 2 4 5 5 3 5 2 5 5 4 2 5 1 3 4 3 3 3 3 2 1 2 3 2 4 5 1 2 2 1 4 4 3 1 2 3 2 1 3 \n",
      "5\n",
      "5 3 3 4 2 5 5 5 1 3 3 1 1 5 5 5 3 3 1 1 1 5 3 5 5 1 1 1 2 1 3 1 5 5 5 5 2 5 5 5 3 2 1 1 5 3 2 2 3 1 3 1 4 2 1 1 5 3 4 3 1 1 5 5 5 5 1 1 1 1 3 5 4 3 3 3 5 4 1 5 1 3 1 1 3 5 5 5 2 1 5 1 5 2 4 5 5 5 2 3 3 3 3 5 2 2 1 1 1 1 2 4 5 1 3 4 5 4 5 3 5 3 3 1 5 3 5 3 5 5 2 5 5 5 2 2 3 1 5 5 5 5 3 2 2 4 1 5 1 5 3 3 4 1 1 2 4 2 5 5 3 4 5 3 4 5 2 1 2 4 5 3 5 3 1 3 2 5 3 5 1 1 3 5 3 3 3 1 4 1 3 5 3 4 1 5 2 2 4 5 5 5 3 1 5 5 2 3 1 1 1 1 3 5 5 1 2 1 5 5 1 5 2 5 1 4 1 1 5 5 5 5 3 1 5 2 1 5 5 2 4 1 1 1 1 4 1 5 2 5 \n"
     ]
    }
   ],
   "source": [
    "for T in range(1, 31):\n",
    "  file = open(name(T), \"r\")\n",
    "  \n",
    "  n, m = map(int, file.readline().split())\n",
    "  Edges = []\n",
    "\n",
    "  for i in range(m):\n",
    "    u, v = map(int, file.readline().split())\n",
    "    Edges.append((u, v))\n",
    "  for i in range(5):\n",
    "    model = transform(Edges, i + 1, n)\n",
    "    if model:\n",
    "      answer = [0] * (n + 1)\n",
    "      for x in model:\n",
    "        if x > 0:\n",
    "          v, c = get_color(n, x)\n",
    "          answer[v] = c\n",
    "      print(i + 1)\n",
    "      string = ''\n",
    "      for i in range(n):\n",
    "        string += str(answer[i + 1]) + ' '\n",
    "      print(string)\n",
    "      break  \n",
    " \n",
    "\n"
   ]
  },
  {
   "cell_type": "markdown",
   "metadata": {
    "colab_type": "text",
    "id": "poy17g5hXai8"
   },
   "source": [
    "Жалкая попытка написать генератор графа(часть 2)"
   ]
  },
  {
   "cell_type": "code",
   "execution_count": 2,
   "metadata": {
    "colab": {},
    "colab_type": "code",
    "id": "ONI3v2HqX71d"
   },
   "outputs": [],
   "source": [
    "import random\n",
    "import time"
   ]
  },
  {
   "cell_type": "markdown",
   "metadata": {
    "colab_type": "text",
    "id": "689Z3MseXpnz"
   },
   "source": [
    "Попробуем сделать разреженный граф(так как формального определения нет, то пусть это будет граф, где ребер не больше числа вершин)"
   ]
  },
  {
   "cell_type": "code",
   "execution_count": 3,
   "metadata": {
    "colab": {
     "base_uri": "https://localhost:8080/",
     "height": 34
    },
    "colab_type": "code",
    "id": "hMs6hOMAYjvF",
    "outputId": "7d3d520d-8145-4669-c6bf-f15bc9579794"
   },
   "outputs": [
    {
     "ename": "NameError",
     "evalue": "name 'transform' is not defined",
     "output_type": "error",
     "traceback": [
      "\u001b[1;31m---------------------------------------------------------------------------\u001b[0m",
      "\u001b[1;31mNameError\u001b[0m                                 Traceback (most recent call last)",
      "\u001b[1;32m<ipython-input-3-cf3aa4fa2c1b>\u001b[0m in \u001b[0;36m<module>\u001b[1;34m()\u001b[0m\n\u001b[0;32m     15\u001b[0m \u001b[1;33m\u001b[0m\u001b[0m\n\u001b[0;32m     16\u001b[0m   \u001b[1;32mfor\u001b[0m \u001b[0mi\u001b[0m \u001b[1;32min\u001b[0m \u001b[0mrange\u001b[0m\u001b[1;33m(\u001b[0m\u001b[1;36m15\u001b[0m\u001b[1;33m)\u001b[0m\u001b[1;33m:\u001b[0m\u001b[1;33m\u001b[0m\u001b[0m\n\u001b[1;32m---> 17\u001b[1;33m     \u001b[0mmodel\u001b[0m \u001b[1;33m=\u001b[0m \u001b[0mtransform\u001b[0m\u001b[1;33m(\u001b[0m\u001b[0mEdges\u001b[0m\u001b[1;33m,\u001b[0m \u001b[0mi\u001b[0m \u001b[1;33m+\u001b[0m \u001b[1;36m1\u001b[0m\u001b[1;33m,\u001b[0m \u001b[0mn\u001b[0m\u001b[1;33m)\u001b[0m\u001b[1;33m\u001b[0m\u001b[0m\n\u001b[0m\u001b[0;32m     18\u001b[0m     \u001b[1;32mif\u001b[0m \u001b[0mmodel\u001b[0m\u001b[1;33m:\u001b[0m\u001b[1;33m\u001b[0m\u001b[0m\n\u001b[0;32m     19\u001b[0m       \u001b[0manswer\u001b[0m \u001b[1;33m=\u001b[0m \u001b[1;33m[\u001b[0m\u001b[1;36m0\u001b[0m\u001b[1;33m]\u001b[0m \u001b[1;33m*\u001b[0m \u001b[1;33m(\u001b[0m\u001b[0mn\u001b[0m \u001b[1;33m+\u001b[0m \u001b[1;36m1\u001b[0m\u001b[1;33m)\u001b[0m\u001b[1;33m\u001b[0m\u001b[0m\n",
      "\u001b[1;31mNameError\u001b[0m: name 'transform' is not defined"
     ]
    }
   ],
   "source": [
    "Time = 0\n",
    "Chrom = 0\n",
    "\n",
    "for _ in range(100):\n",
    "  n = random.randint(2, 1000)\n",
    "  m = random.randint(2, n)\n",
    "  Edges = []\n",
    "  for i in range(m):\n",
    "    v = random.randint(1, n)\n",
    "    u = random.randint(1, n)\n",
    "    cur = (v, u)\n",
    "    Edges.append(cur)\n",
    "    \n",
    "  start_time = time.time()\n",
    "  \n",
    "  for i in range(15):\n",
    "    model = transform(Edges, i + 1, n)\n",
    "    if model:\n",
    "      answer = [0] * (n + 1)\n",
    "      for x in model:\n",
    "        if x > 0:\n",
    "          v, c = get_color(n, x)\n",
    "          answer[v] = c\n",
    "      string = ''\n",
    "      for i in range(n):\n",
    "        string += str(answer[i + 1]) + ' '\n",
    "      print(i + 1)\n",
    "      Chrom += i + 1\n",
    "      break\n",
    "      \n",
    "  Time += time.time() - start_time\n",
    "  \n",
    "print('averaged time:', Time / 100)\n",
    "print('aversged chrom:', Chrom / 100)\n",
    "  "
   ]
  },
  {
   "cell_type": "markdown",
   "metadata": {
    "colab_type": "text",
    "id": "v899gZhvf91S"
   },
   "source": [
    "Теперь посмотрим, сколько времени займет работа с полными графами(но вершин там будет в 10 раза меньше, и мы изначально будем знать количество цветов):"
   ]
  },
  {
   "cell_type": "code",
   "execution_count": 94,
   "metadata": {
    "colab": {
     "base_uri": "https://localhost:8080/",
     "height": 34
    },
    "colab_type": "code",
    "id": "L3t9vOtEecou",
    "outputId": "e44ed4c8-a5c4-4f37-eed1-d7e379df92a3"
   },
   "outputs": [
    {
     "name": "stdout",
     "output_type": "stream",
     "text": [
      "averaged time: 0.08998061895370484\n"
     ]
    }
   ],
   "source": [
    "Time = 0\n",
    "for _ in range(100):\n",
    "  n = random.randint(2, 100)\n",
    "  m = 0\n",
    "  Edges = []\n",
    "  for i in range(1, n + 1):\n",
    "    for j in range(i, n + 1):\n",
    "      cur = (i, j)\n",
    "      m += 1\n",
    "      Edges.append(cur)\n",
    "    \n",
    "  start_time = time.time()\n",
    "  \n",
    "  for i in range(n, n + 1):\n",
    "    model = transform(Edges, i + 1, n)\n",
    "    if model:\n",
    "      answer = [0] * (n + 1)\n",
    "      for x in model:\n",
    "        if x > 0:\n",
    "          v, c = get_color(n, x)\n",
    "          answer[v] = c\n",
    "      string = ''\n",
    "      for i in range(n):\n",
    "        string += str(answer[i + 1]) + ' '\n",
    "      break\n",
    "      \n",
    "  Time += time.time() - start_time\n",
    "  \n",
    "print('averaged time:', Time / 100)\n",
    "  "
   ]
  },
  {
   "cell_type": "markdown",
   "metadata": {
    "colab_type": "text",
    "id": "qoqB3YwPgHiG"
   },
   "source": [
    "Теперь рассмотрим двудольный граф, нам точно известно, что на 2 он закончит искать хроматическое число, поэтому сразу будет проверять 2"
   ]
  },
  {
   "cell_type": "code",
   "execution_count": 85,
   "metadata": {
    "colab": {
     "base_uri": "https://localhost:8080/",
     "height": 34
    },
    "colab_type": "code",
    "id": "OdDiy-pUgVq2",
    "outputId": "3d928ac0-7527-4f03-ce06-8c158d47bc6c"
   },
   "outputs": [
    {
     "name": "stdout",
     "output_type": "stream",
     "text": [
      "averaged time: 0.007531051635742188\n"
     ]
    }
   ],
   "source": [
    "Time = 0\n",
    "for _ in range(100):\n",
    "  n = random.randint(2, 1000)\n",
    "  m = random.randint(1000, 2000)\n",
    "  Edges = []\n",
    "  for i in range(m):\n",
    "    u = random.randint(1, n // 2)\n",
    "    v = random.randint(n // 2 + 1, n + 1)\n",
    "    cur = (u, v)\n",
    "    Edges.append(cur)\n",
    "\n",
    "  start_time = time.time()\n",
    "\n",
    "  for i in range(2):\n",
    "    model = transform(Edges, i + 1, n)\n",
    "    if model:\n",
    "      answer = [0] * (n + 1)\n",
    "      for x in model:\n",
    "        if x > 0:\n",
    "          v, c = get_color(n, x)\n",
    "          answer[v] = c\n",
    "      string = ''\n",
    "      for i in range(n):\n",
    "        string += str(answer[i + 1]) + ' '\n",
    "      break\n",
    "      \n",
    "  Time += time.time() - start_time\n",
    "  \n",
    "print('averaged time:', Time / 100)"
   ]
  },
  {
   "cell_type": "markdown",
   "metadata": {
    "colab_type": "text",
    "id": "b1Qp02kjkz2k"
   },
   "source": [
    "Видно, что быстрее всего алгоритм работает на меньших хроматических числах, даже размер, наверное, не так важен. Даже если мы изначально знаем это число, найти означивание занимает значительное время."
   ]
  }
 ],
 "metadata": {
  "colab": {
   "collapsed_sections": [],
   "name": "Untitled1.ipynb",
   "provenance": []
  },
  "kernelspec": {
   "display_name": "Python 3",
   "language": "python",
   "name": "python3"
  },
  "language_info": {
   "codemirror_mode": {
    "name": "ipython",
    "version": 3
   },
   "file_extension": ".py",
   "mimetype": "text/x-python",
   "name": "python",
   "nbconvert_exporter": "python",
   "pygments_lexer": "ipython3",
   "version": "3.6.5"
  }
 },
 "nbformat": 4,
 "nbformat_minor": 1
}
